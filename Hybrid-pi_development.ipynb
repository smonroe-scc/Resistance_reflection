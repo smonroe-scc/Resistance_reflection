{
 "cells": [
  {
   "cell_type": "code",
   "execution_count": 1,
   "metadata": {},
   "outputs": [
    {
     "name": "stdout",
     "output_type": "stream",
     "text": [
      "Author        : sm626967\n",
      "Python        : 3.8.3 \n",
      "NumPy         : 1.18.5\n",
      "Encoding      : utf-8\n",
      "Timestamp     : 1694290741.1364303\n"
     ]
    }
   ],
   "source": [
    "from math import cos, sin, tan, acos, asin, atan, atan2, degrees, radians\n",
    "from numpy import reciprocal, pi, sqrt, angle, exp\n",
    "import numpy as np\n",
    "import time, sys, getpass\n",
    "import scipy.constants as sc\n",
    "\n",
    "#hextime=float.hex(time.time())\n",
    "\n",
    "# The foregoing is a clunky way to do this\n",
    "# Haven't spent a lot of time thinking through a more elegant solution\n",
    "# usage: %run py_templates/1_Boilerplate_numeric.py\n",
    "# to run from your root level py directory.\n",
    "\n",
    "def cosd(x):\n",
    "  return cos(radians(x))\n",
    "\n",
    "def sind(x):\n",
    "  return sin(radians(x))\n",
    "\n",
    "def tand(x):\n",
    "  return tan(radians(x))\n",
    "\n",
    "def acosd(x):\n",
    "  return degrees(acos(x))\n",
    "\n",
    "def asind(x):\n",
    "  return degrees(asin(x))\n",
    "\n",
    "def atand(x):\n",
    "  return degrees(atan(x))\n",
    "\n",
    "def atan2d(y, x):\n",
    "  return degrees(atan2(y, x))\n",
    "\n",
    "## Now define conversion functions:\n",
    "\n",
    "def P2R(radii, angles):\n",
    "    return radii * exp(1j*angles*(pi/180))\n",
    "\n",
    "def R2P(x):\n",
    "    return abs(x), angle(x, deg=True)\n",
    "\n",
    "\n",
    "print(\"Author        :\",getpass.getuser())\n",
    "print(\"Python        :\",sys.version[0:6])\n",
    "print(\"NumPy         :\",np.version.version)\n",
    "print(\"Encoding      :\",sys.getdefaultencoding())\n",
    "print(\"Timestamp     :\",time.time())"
   ]
  },
  {
   "cell_type": "markdown",
   "metadata": {},
   "source": [
    "The initial Common Emitter Amplifier, and the reduction of $R_1$ and $R_2$ to $R_{th}$ looks like this:"
   ]
  },
  {
   "cell_type": "markdown",
   "metadata": {},
   "source": [
    "![Basic CEA](Basic_DC_CEA.JPG)"
   ]
  },
  {
   "cell_type": "markdown",
   "metadata": {},
   "source": [
    "Based upon this, we can develop what is known as the \"Hybrid-$\\pi$\" model[1]:"
   ]
  },
  {
   "cell_type": "markdown",
   "metadata": {},
   "source": [
    "![Hybrid Pi](Hyb_pi.JPG)"
   ]
  },
  {
   "cell_type": "markdown",
   "metadata": {},
   "source": [
    "[1] Giacoletto, L.J. \"Diode and transistor equivalent circuits for transient operation\" IEEE Journal of Solid-State Circuits, Vol 4, Issue 2, 1969"
   ]
  },
  {
   "cell_type": "markdown",
   "metadata": {},
   "source": [
    "There are a few parameters that need definition:\n",
    "    "
   ]
  },
  {
   "cell_type": "markdown",
   "metadata": {},
   "source": [
    "$$g_m=\\frac{I_C}{V_T}$$<br>\n",
    "$$r_\\pi=\\frac{V_T}{I_B}$$<br>\n",
    "$$r_e=\\frac{V_T}{I_E}$$<br>\n",
    "$$r_o=\\frac{V_A+V_{CE}}{I_C}$$<br>"
   ]
  },
  {
   "cell_type": "markdown",
   "metadata": {},
   "source": [
    "Where,<br><br>\n",
    "$g_m$ is the device transconductance,<br> $r_{\\pi}$ is the resistance of the base,<br> $r_e$ is the resistance of the emitter,<br> and $r_o$ is the output resistance. <br><br>The current source on the hybrid-$\\pi$ model which is shown in this illustration as being $\\beta \\cdot I_B$ could also be put in terms of $g_m \\cdot V_\\pi$"
   ]
  },
  {
   "cell_type": "markdown",
   "metadata": {},
   "source": [
    "To describe why the input resistance is reflected back into the base consider the model above, and the following relation:"
   ]
  },
  {
   "cell_type": "markdown",
   "metadata": {},
   "source": [
    "We could express input resistance in terms of Ohm's Law:<br> $$R_{in_{BASE}}=\\frac{V_{\\pi}}{I_B}$$"
   ]
  },
  {
   "cell_type": "markdown",
   "metadata": {},
   "source": [
    "And, $$I_B=\\frac{I_E}{\\beta+1}$$"
   ]
  },
  {
   "cell_type": "markdown",
   "metadata": {},
   "source": [
    "Furthermore,<br>\n",
    "$$V_{\\pi}=I_E(R_E+r_e)$$"
   ]
  },
  {
   "cell_type": "markdown",
   "metadata": {},
   "source": [
    "Via substitution,"
   ]
  },
  {
   "cell_type": "markdown",
   "metadata": {},
   "source": [
    "$$R_{in_{BASE}}=(\\beta+1)\\cdot(R_E+r_e)$$<br><br>\n",
    "From this relation, it is easy to see that the input resistance is a \"reflection\" of a multiple of $\\beta$ and all aggregated emitter resistances."
   ]
  },
  {
   "cell_type": "markdown",
   "metadata": {},
   "source": [
    "The full relation for circuit $R_{IN}$, including voltage divider resistors, is ..."
   ]
  },
  {
   "cell_type": "markdown",
   "metadata": {},
   "source": [
    "$$R_{IN}=R_1 \\parallel R_2 \\parallel R_{in_{BASE}}$$"
   ]
  }
 ],
 "metadata": {
  "kernelspec": {
   "display_name": "Python 3",
   "language": "python",
   "name": "python3"
  },
  "language_info": {
   "codemirror_mode": {
    "name": "ipython",
    "version": 3
   },
   "file_extension": ".py",
   "mimetype": "text/x-python",
   "name": "python",
   "nbconvert_exporter": "python",
   "pygments_lexer": "ipython3",
   "version": "3.8.3"
  }
 },
 "nbformat": 4,
 "nbformat_minor": 4
}
